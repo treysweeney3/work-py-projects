{
 "cells": [
  {
   "cell_type": "code",
   "execution_count": 26,
   "id": "bcae967f",
   "metadata": {},
   "outputs": [],
   "source": [
    "#Necessary imports for xlsx files\n",
    "import openpyxl as xl\n",
    "import matplotlib.pyplot as plt"
   ]
  },
  {
   "cell_type": "code",
   "execution_count": 28,
   "id": "ec388479",
   "metadata": {},
   "outputs": [
    {
     "name": "stdout",
     "output_type": "stream",
     "text": [
      "Street name: street\n",
      "Day to append: monday\n",
      "Column to add value to: 2\n"
     ]
    }
   ],
   "source": [
    "#Create object for file input\n",
    "wb = xl.load_workbook('test.xlsx')\n",
    "ws = wb.active\n",
    "\n",
    "#Initialize values for openpyxl use\n",
    "sheet = wb['Sheet1']\n",
    "\n",
    "#Accept user input\n",
    "street = input(\"Street name: \")\n",
    "day = input(\"Day to append: \")\n",
    "add_to_col = int(input(\"Column to add value to: \"))"
   ]
  },
  {
   "cell_type": "code",
   "execution_count": 30,
   "id": "1c2cee48",
   "metadata": {},
   "outputs": [
    {
     "ename": "TypeError",
     "evalue": "'<' not supported between instances of 'str' and 'int'",
     "output_type": "error",
     "traceback": [
      "\u001b[1;31m---------------------------------------------------------------------------\u001b[0m",
      "\u001b[1;31mTypeError\u001b[0m                                 Traceback (most recent call last)",
      "Cell \u001b[1;32mIn[30], line 10\u001b[0m\n\u001b[0;32m      7\u001b[0m \u001b[38;5;28;01mfor\u001b[39;00m i \u001b[38;5;129;01min\u001b[39;00m \u001b[38;5;28mrange\u001b[39m(row,\u001b[38;5;241m6300\u001b[39m):\n\u001b[0;32m      9\u001b[0m     \u001b[38;5;28;01mif\u001b[39;00m mycell\u001b[38;5;241m.\u001b[39mvalue \u001b[38;5;241m==\u001b[39m street:\n\u001b[1;32m---> 10\u001b[0m         cellref \u001b[38;5;241m=\u001b[39m \u001b[43msheet\u001b[49m\u001b[38;5;241;43m.\u001b[39;49m\u001b[43mcell\u001b[49m\u001b[43m(\u001b[49m\u001b[43mrow\u001b[49m\u001b[38;5;241;43m=\u001b[39;49m\u001b[43mi\u001b[49m\u001b[43m,\u001b[49m\u001b[43m \u001b[49m\u001b[43mcolumn\u001b[49m\u001b[38;5;241;43m=\u001b[39;49m\u001b[38;5;124;43m\"\u001b[39;49m\u001b[38;5;124;43mB\u001b[39;49m\u001b[38;5;124;43m\"\u001b[39;49m\u001b[43m)\u001b[49m\n\u001b[0;32m     11\u001b[0m         mycell\u001b[38;5;241m.\u001b[39mvalue \u001b[38;5;241m==\u001b[39m day\n",
      "File \u001b[1;32m~\\AppData\\Local\\anaconda3\\lib\\site-packages\\openpyxl\\worksheet\\worksheet.py:237\u001b[0m, in \u001b[0;36mWorksheet.cell\u001b[1;34m(self, row, column, value)\u001b[0m\n\u001b[0;32m    216\u001b[0m \u001b[38;5;28;01mdef\u001b[39;00m \u001b[38;5;21mcell\u001b[39m(\u001b[38;5;28mself\u001b[39m, row, column, value\u001b[38;5;241m=\u001b[39m\u001b[38;5;28;01mNone\u001b[39;00m):\n\u001b[0;32m    217\u001b[0m     \u001b[38;5;124;03m\"\"\"\u001b[39;00m\n\u001b[0;32m    218\u001b[0m \u001b[38;5;124;03m    Returns a cell object based on the given coordinates.\u001b[39;00m\n\u001b[0;32m    219\u001b[0m \n\u001b[1;32m   (...)\u001b[0m\n\u001b[0;32m    234\u001b[0m \u001b[38;5;124;03m    :rtype: openpyxl.cell.cell.Cell\u001b[39;00m\n\u001b[0;32m    235\u001b[0m \u001b[38;5;124;03m    \"\"\"\u001b[39;00m\n\u001b[1;32m--> 237\u001b[0m     \u001b[38;5;28;01mif\u001b[39;00m row \u001b[38;5;241m<\u001b[39m \u001b[38;5;241m1\u001b[39m \u001b[38;5;129;01mor\u001b[39;00m \u001b[43mcolumn\u001b[49m\u001b[43m \u001b[49m\u001b[38;5;241;43m<\u001b[39;49m\u001b[43m \u001b[49m\u001b[38;5;241;43m1\u001b[39;49m:\n\u001b[0;32m    238\u001b[0m         \u001b[38;5;28;01mraise\u001b[39;00m \u001b[38;5;167;01mValueError\u001b[39;00m(\u001b[38;5;124m\"\u001b[39m\u001b[38;5;124mRow or column values must be at least 1\u001b[39m\u001b[38;5;124m\"\u001b[39m)\n\u001b[0;32m    240\u001b[0m     cell \u001b[38;5;241m=\u001b[39m \u001b[38;5;28mself\u001b[39m\u001b[38;5;241m.\u001b[39m_get_cell(row, column)\n",
      "\u001b[1;31mTypeError\u001b[0m: '<' not supported between instances of 'str' and 'int'"
     ]
    }
   ],
   "source": [
    "#Initialize values for loop use\n",
    "row = 2\n",
    "#column = add_to_col\n",
    "mycell = sheet['A2']\n",
    "\n",
    "#Iterate through column and return corresponding day in adjacent row\n",
    "for i in range(row,6300):\n",
    "    \n",
    "    if mycell.value == street:\n",
    "        cellref = sheet.cell(row=i, column=\"B\")\n",
    "        mycell.value == day"
   ]
  },
  {
   "cell_type": "code",
   "execution_count": 25,
   "id": "a488b057",
   "metadata": {},
   "outputs": [],
   "source": [
    "#Save workbook\n",
    "wb.save(\"test4.xlsx\")"
   ]
  }
 ],
 "metadata": {
  "kernelspec": {
   "display_name": "Python 3 (ipykernel)",
   "language": "python",
   "name": "python3"
  },
  "language_info": {
   "codemirror_mode": {
    "name": "ipython",
    "version": 3
   },
   "file_extension": ".py",
   "mimetype": "text/x-python",
   "name": "python",
   "nbconvert_exporter": "python",
   "pygments_lexer": "ipython3",
   "version": "3.10.9"
  }
 },
 "nbformat": 4,
 "nbformat_minor": 5
}
