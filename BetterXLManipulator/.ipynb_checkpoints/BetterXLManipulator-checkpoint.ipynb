{
 "cells": [
  {
   "cell_type": "code",
   "execution_count": 1,
   "id": "bcae967f",
   "metadata": {},
   "outputs": [],
   "source": [
    "#Necessary imports for xlsx files\n",
    "import openpyxl as xl\n",
    "import matplotlib.pyplot as plt"
   ]
  },
  {
   "cell_type": "code",
   "execution_count": 2,
   "id": "ec388479",
   "metadata": {},
   "outputs": [
    {
     "name": "stderr",
     "output_type": "stream",
     "text": [
      "C:\\Users\\tsweeney\\AppData\\Local\\Temp\\ipykernel_20340\\3277790625.py:6: DeprecationWarning: Call to deprecated function get_sheet_by_name (Use wb[sheetname]).\n",
      "  sheet = wb.get_sheet_by_name('Sheet1')\n"
     ]
    },
    {
     "name": "stdout",
     "output_type": "stream",
     "text": [
      "Street name: street\n",
      "Day to append: Monday\n",
      "Column to add value to: B\n"
     ]
    }
   ],
   "source": [
    "#Create object for file input\n",
    "wb = xl.load_workbook('test.xlsx')\n",
    "ws = wb.active\n",
    "\n",
    "#Initialize values for openpyxl use\n",
    "sheet = wb.get_sheet_by_name('Sheet1')\n",
    "\n",
    "#Accept user input\n",
    "street = input(\"Street name: \")\n",
    "day = input(\"Day to append: \")\n",
    "add_to_col = input(\"Column to add value to: \")"
   ]
  },
  {
   "cell_type": "code",
   "execution_count": 6,
   "id": "1c2cee48",
   "metadata": {},
   "outputs": [
    {
     "ename": "NameError",
     "evalue": "name 'cell' is not defined",
     "output_type": "error",
     "traceback": [
      "\u001b[1;31m---------------------------------------------------------------------------\u001b[0m",
      "\u001b[1;31mNameError\u001b[0m                                 Traceback (most recent call last)",
      "Cell \u001b[1;32mIn[6], line 7\u001b[0m\n\u001b[0;32m      5\u001b[0m \u001b[38;5;66;03m#Iterate through column and return corresponding day in adjacent row\u001b[39;00m\n\u001b[0;32m      6\u001b[0m \u001b[38;5;28;01mfor\u001b[39;00m i \u001b[38;5;129;01min\u001b[39;00m \u001b[38;5;28mrange\u001b[39m(row,\u001b[38;5;241m6300\u001b[39m):\n\u001b[1;32m----> 7\u001b[0m     \u001b[38;5;28;01mif\u001b[39;00m \u001b[43mcell\u001b[49m\u001b[38;5;241m.\u001b[39mvalue \u001b[38;5;241m==\u001b[39m street:\n\u001b[0;32m      8\u001b[0m         cellref \u001b[38;5;241m=\u001b[39m sheet\u001b[38;5;241m.\u001b[39mcell(row\u001b[38;5;241m=\u001b[39mi, column\u001b[38;5;241m=\u001b[39mcolumn)\n\u001b[0;32m      9\u001b[0m         cell\u001b[38;5;241m.\u001b[39mvalue \u001b[38;5;241m==\u001b[39m day\n",
      "\u001b[1;31mNameError\u001b[0m: name 'cell' is not defined"
     ]
    }
   ],
   "source": [
    "#Initialize values for loop use\n",
    "row = 1\n",
    "column = add_to_col\n",
    "cell = sheet['A1']\n",
    "\n",
    "#Iterate through column and return corresponding day in adjacent row\n",
    "for i in range(row,6300):\n",
    "    if cell.value == street:\n",
    "        cellref = sheet.cell(row=i, column=column)\n",
    "        cell.value == day"
   ]
  },
  {
   "cell_type": "code",
   "execution_count": null,
   "id": "d582955e",
   "metadata": {},
   "outputs": [],
   "source": [
    "#Save workbook\n",
    "wb.save(\"test.xlsx\")"
   ]
  }
 ],
 "metadata": {
  "kernelspec": {
   "display_name": "Python 3 (ipykernel)",
   "language": "python",
   "name": "python3"
  },
  "language_info": {
   "codemirror_mode": {
    "name": "ipython",
    "version": 3
   },
   "file_extension": ".py",
   "mimetype": "text/x-python",
   "name": "python",
   "nbconvert_exporter": "python",
   "pygments_lexer": "ipython3",
   "version": "3.10.9"
  }
 },
 "nbformat": 4,
 "nbformat_minor": 5
}
